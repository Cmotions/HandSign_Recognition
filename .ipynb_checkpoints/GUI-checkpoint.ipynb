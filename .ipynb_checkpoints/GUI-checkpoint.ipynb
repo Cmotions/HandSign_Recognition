{
 "cells": [
  {
   "cell_type": "code",
   "execution_count": 1,
   "metadata": {},
   "outputs": [
    {
     "name": "stderr",
     "output_type": "stream",
     "text": [
      "Using TensorFlow backend.\n"
     ]
    }
   ],
   "source": [
    "# load packages\n",
    "import os\n",
    "import cv2\n",
    "import pickle\n",
    "from keras.models import model_from_json\n",
    "from PIL import Image, ImageTk\n",
    "from keras.preprocessing import image\n",
    "from keras.applications.resnet50 import preprocess_input, decode_predictions\n",
    "import numpy as np\n",
    "import matplotlib.pyplot as plt\n",
    "import tkinter as tk\n",
    "from tkinter import messagebox\n",
    "from datetime import datetime\n",
    "\n",
    "# make sure matplotlib shows images inline\n",
    "%matplotlib inline"
   ]
  },
  {
   "cell_type": "code",
   "execution_count": 2,
   "metadata": {
    "collapsed": true
   },
   "outputs": [],
   "source": [
    "# set directory\n",
    "os.chdir(\"D:/Documents/GitHub/HandSign_Recognition\")"
   ]
  },
  {
   "cell_type": "code",
   "execution_count": 3,
   "metadata": {
    "collapsed": true
   },
   "outputs": [],
   "source": [
    "# define the location of the cascade files we will use to detect hands\n",
    "fist_cascade_path = '00 Data/Haarcascades/fist.xml' \n",
    "palm_cascade_path =  '00 Data/Haarcascades/palm.xml'\n",
    "closed_frontal_palm_cascade_path =  '00 Data/Haarcascades/closed_frontal_palm.xml'"
   ]
  },
  {
   "cell_type": "code",
   "execution_count": 4,
   "metadata": {
    "collapsed": true
   },
   "outputs": [],
   "source": [
    "# load cascade file\n",
    "fistCascade = cv2.CascadeClassifier(fist_cascade_path)\n",
    "palmCascade = cv2.CascadeClassifier(palm_cascade_path)\n",
    "closedFrontalPalmCascade = cv2.CascadeClassifier(closed_frontal_palm_cascade_path)"
   ]
  },
  {
   "cell_type": "code",
   "execution_count": 5,
   "metadata": {},
   "outputs": [
    {
     "name": "stdout",
     "output_type": "stream",
     "text": [
      "Loaded model from disk\n"
     ]
    }
   ],
   "source": [
    "# load json and create model\n",
    "json_file = open('00 Data/my_model.json', 'r')\n",
    "loaded_model_json = json_file.read()\n",
    "json_file.close()\n",
    "loaded_model = model_from_json(loaded_model_json)\n",
    "\n",
    "# load weights into new model\n",
    "loaded_model.load_weights(\"00 Data/my_model.h5\")\n",
    "print(\"Loaded model from disk\")"
   ]
  },
  {
   "cell_type": "code",
   "execution_count": 6,
   "metadata": {
    "collapsed": true
   },
   "outputs": [],
   "source": [
    "label_dict = pickle.load(open('00 Data/LabelDictionary.pkl', 'rb'))"
   ]
  },
  {
   "cell_type": "code",
   "execution_count": 7,
   "metadata": {
    "collapsed": true
   },
   "outputs": [],
   "source": [
    "# define the function to predict which letter is shown with handsigns\n",
    "def predict(model, img, target_size):\n",
    "    #    model: keras model\n",
    "    #    img: PIL format image\n",
    "    #    target_size: (width, height) tuple\n",
    "    \n",
    "    if img.size != target_size:\n",
    "        print(\"the original size of the image is: \" + str(img.size))\n",
    "        img = img.resize(target_size)\n",
    "        print(\"the new size of the image is: \" + str(img.size))\n",
    "\n",
    "    # convert to numpy array and preprocess\n",
    "    x = np.array(img)\n",
    "    x = np.expand_dims(x, axis = 0)\n",
    "    x = preprocess_input(x.astype(float))\n",
    "    \n",
    "    # make a prediction\n",
    "    pred = model.predict(x)\n",
    "    #print(pred)\n",
    "    \n",
    "    # label the prediction\n",
    "    pred_label = np.argmax(pred, axis = 1)\n",
    "    #print(pred_label)\n",
    "    \n",
    "    # translate the label to the letter, using the label dictionary\n",
    "    label = list(label_dict.keys())[list(label_dict.values()).index(pred_label)]\n",
    "    \n",
    "    # return the label of the prediction\n",
    "    return label"
   ]
  },
  {
   "cell_type": "code",
   "execution_count": 8,
   "metadata": {
    "collapsed": true
   },
   "outputs": [],
   "source": [
    "# define a function for showing the webcam screen\n",
    "def show_frame():\n",
    "    _, frame = camera.read()\n",
    "    frame = cv2.flip(frame, 1)\n",
    "    cv2image = cv2.cvtColor(frame, cv2.COLOR_BGR2RGBA)\n",
    "    img = Image.fromarray(cv2image)\n",
    "    imgtk = ImageTk.PhotoImage(image = img)\n",
    "    lmain.imgtk = imgtk\n",
    "    lmain.configure(image = imgtk)\n",
    "    lmain.after(10, show_frame)"
   ]
  },
  {
   "cell_type": "code",
   "execution_count": 13,
   "metadata": {},
   "outputs": [
    {
     "name": "stdout",
     "output_type": "stream",
     "text": [
      "2018-03-02 11:34:49.161567\n",
      "the original size of the image is: (640, 640)\n",
      "the new size of the image is: (64, 85)\n",
      "C\n"
     ]
    }
   ],
   "source": [
    "# define the webcam screen\n",
    "width, height = 850, 640\n",
    "camera = cv2.VideoCapture(0)\n",
    "camera.set(cv2.CAP_PROP_FRAME_WIDTH, width)\n",
    "camera.set(cv2.CAP_PROP_FRAME_HEIGHT, height)\n",
    "\n",
    "# create the GUI screen\n",
    "root = tk.Tk()\n",
    "\n",
    "# create an empty variable to save the sentence and the new letter\n",
    "the_sentence = \"de \"\n",
    "new_letter = \"\"\n",
    "\n",
    "# configure the GUI\n",
    "root.configure(bg = '#%02x%02x%02x' % (101, 116, 129))\n",
    "\n",
    "# configure the number of columns and rows in the grid\n",
    "root.columnconfigure(3, pad = 7)\n",
    "root.rowconfigure(5, pad = 7)\n",
    "\n",
    "# make column(s) and/or(s) row expandable\n",
    "root.columnconfigure(1, weight = 1)\n",
    "root.rowconfigure(1, weight = 1)\n",
    "root.rowconfigure(4, weight = 1)\n",
    "\n",
    "# make sure the GUI is in fullscreen mode\n",
    "root.state(\"zoom\")\n",
    "\n",
    "# Define the title of the GUI\n",
    "root.title(\"Gebarentaal herkenning met behulp van Artificial Intelligence\")\n",
    "\n",
    "# put a logo on the GUI\n",
    "logo = tk.PhotoImage(file = 'C:/Users/j.schoonemann/Downloads/logo.png')\n",
    "img = tk.Label(root, image = logo, bg = '#%02x%02x%02x' % (101, 116, 129))\n",
    "img.image = logo\n",
    "img.grid(row = 0, column = 0, padx = 5, pady = 5)\n",
    "\n",
    "# create a placeholder for the webcam screen\n",
    "lmain = tk.Label(root)\n",
    "lmain.grid(row = 1, column = 1)\n",
    "\n",
    "# create a placeholder textbox for the complete sentence\n",
    "text = tk.Text(root\n",
    "               , bd = 0 # size of the border\n",
    "               , bg = '#%02x%02x%02x' % (218, 218, 222) # background color\n",
    "               , height = 5 # number of lines\n",
    "               , padx = 5 # left and right padding in pixels\n",
    "               , pady = 5 # top and bottom padding in pixels\n",
    "               , relief = \"solid\" # 3D appearance of widget: flat, groove, raised, ridge, solid, or sunken\n",
    "               , wrap = \"word\" # truncate line after last whole word that fits\n",
    "               , font = ('Verdana', 20, 'bold')\n",
    "               , fg = '#%02x%02x%02x' % (4, 55, 133) # textcolor (Cmotions darkblue)\n",
    "               , width = 40 # the number of characters that fit on a single line\n",
    "              )\n",
    "text.grid(row = 4, column = 1)\n",
    "\n",
    "# show the sentence\n",
    "text.insert(tk.INSERT, the_sentence)\n",
    "\n",
    "\n",
    "# create a function that calls the model and processes the outcome\n",
    "def call_model(the_sentence = the_sentence):\n",
    "    return_value, image = camera.read()\n",
    "    print(datetime.now())\n",
    "    # check if the camera gives an image\n",
    "    if return_value:\n",
    "        # convert opencv image to PIL\n",
    "        pil_im = Image.fromarray(image)\n",
    "        #pil_im.show()\n",
    "        \n",
    "        # try to define the letter from the handsign\n",
    "        new_letter = predict(loaded_model, pil_im, (64,85))\n",
    "        print(new_letter)\n",
    "        \n",
    "        # let the user decide if the letter should be added to the sentence\n",
    "        add_letter = messagebox.askyesno(title = \"Bevestig toevoegen van letter aan zin\"\n",
    "                                         , message = \"Ik heb de nieuwe letter herkend als een:\\n\\n\" + str(new_letter)\n",
    "                                         + \"\\n\\nWil je deze toevoegen aan de zin?\")\n",
    "        \n",
    "        # check is letter should be added and act accordingly\n",
    "        if add_letter:\n",
    "            \n",
    "            # make sure the text is editable\n",
    "            #text.configure(state = 'normal')\n",
    "            \n",
    "            # update the value of the complete sentence\n",
    "            the_sentence = the_sentence + new_letter\n",
    "            \n",
    "            # show the complete sentence that has been created so far\n",
    "            text.insert(tk.INSERT, new_letter)\n",
    "            root.update_idletasks()\n",
    "            \n",
    "            # make sure the text isn't editable\n",
    "            #text.configure(state = 'disabled')\n",
    "\n",
    "\n",
    "# create a button that calls the model\n",
    "startButton = tk.Button(root, text = 'Bepaal letter', command = call_model\n",
    "                        , height = 5, width = 20, bg = 'red', foreground = 'white'\n",
    "                       , relief = 'raised', justify = 'center', font = ('Verdana', 15, 'bold'))\n",
    "startButton.grid(row = 1, column = 0)\n",
    "\n",
    "# show the webcam stream\n",
    "show_frame()\n",
    "\n",
    "# start the GUI\n",
    "root.mainloop()  \n",
    "\n",
    "# turn off the camera\n",
    "camera.release()\n",
    "cv2.destroyAllWindows()"
   ]
  },
  {
   "cell_type": "code",
   "execution_count": 10,
   "metadata": {
    "collapsed": true
   },
   "outputs": [],
   "source": [
    "# turn off the camera\n",
    "camera.release()\n",
    "cv2.destroyAllWindows()"
   ]
  },
  {
   "cell_type": "code",
   "execution_count": null,
   "metadata": {},
   "outputs": [],
   "source": [
    "    "
   ]
  }
 ],
 "metadata": {
  "kernelspec": {
   "display_name": "Python 3",
   "language": "python",
   "name": "python3"
  },
  "language_info": {
   "codemirror_mode": {
    "name": "ipython",
    "version": 3
   },
   "file_extension": ".py",
   "mimetype": "text/x-python",
   "name": "python",
   "nbconvert_exporter": "python",
   "pygments_lexer": "ipython3",
   "version": "3.6.3"
  }
 },
 "nbformat": 4,
 "nbformat_minor": 2
}
