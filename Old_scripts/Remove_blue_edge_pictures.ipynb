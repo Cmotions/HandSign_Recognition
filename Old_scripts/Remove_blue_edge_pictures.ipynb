{
 "cells": [
  {
   "cell_type": "code",
   "execution_count": 20,
   "metadata": {},
   "outputs": [],
   "source": [
    "# import packages\n",
    "import numpy as np\n",
    "import time\n",
    "#import pandas as pd\n",
    "import os\n",
    "import os.path\n",
    "import cv2\n",
    "from PIL import Image\n",
    "from keras.preprocessing import image"
   ]
  },
  {
   "cell_type": "code",
   "execution_count": 21,
   "metadata": {},
   "outputs": [
    {
     "name": "stdout",
     "output_type": "stream",
     "text": [
      "D:\\Documents\\GitHub\\HandSign_Recognition\n"
     ]
    }
   ],
   "source": [
    "# get the directory where this file can be found\n",
    "current_directory = os.getcwd()\n",
    "\n",
    "# change the working directory to this directory\n",
    "os.chdir(current_directory)\n",
    "\n",
    "# print the directory\n",
    "print(current_directory)"
   ]
  },
  {
   "cell_type": "code",
   "execution_count": 22,
   "metadata": {
    "collapsed": true
   },
   "outputs": [],
   "source": [
    "# define the folder where the pictures are saved (in a separate folder for each label)\n",
    "imgloc = '00 Data/pictures/'\n",
    "\n",
    "\n",
    "# set the parameter that decides if images should be converted to grayscale\n",
    "set_img_grayscale = False\n",
    "\n",
    "# set the parameter that decides if images should be binarized (black/white)\n",
    "# and set the binarize boundaries\n",
    "binarize = False\n",
    "binarize_min = 135\n",
    "binarize_max = 255"
   ]
  },
  {
   "cell_type": "code",
   "execution_count": 23,
   "metadata": {
    "collapsed": true
   },
   "outputs": [],
   "source": [
    "# define a function that reads images from a location and uses the image names as labels\n",
    "def read_images(imgloc = ''):\n",
    "    # read all images from file into a numpy array\n",
    "    # cv2 assumes colors are BGR, so we also convert this to RGB\n",
    "    images = np.array([cv2.imread(imgloc + name) \n",
    "                       for name in os.listdir(imgloc)], dtype = np.object)\n",
    "\n",
    "    # use the image names to create a numpy array with the label of each image\n",
    "    labels  = np.array([str(name.rpartition(' ')[0].rpartition('_')[2]) for name in os.listdir(imgloc)])\n",
    "    \n",
    "    return images, labels"
   ]
  },
  {
   "cell_type": "code",
   "execution_count": 24,
   "metadata": {
    "collapsed": true
   },
   "outputs": [],
   "source": [
    "def resize_images(img, basewidth = 200, set_grayscale = False, binarize = False, binarize_min = 135, binarize_max = 255):\n",
    "    # make sure the numpy array contains integers (otherwise we can't convert them to PIL images)\n",
    "    img = img.astype('uint8')\n",
    "    #plt.imshow(img)\n",
    "    \n",
    "    # convert the numpy array image to PIL image\n",
    "    img = Image.fromarray(img)\n",
    "    #print(type(img))\n",
    "    \n",
    "    # crop the image\n",
    "    img = img.crop((2,2,198,198))\n",
    "\n",
    "    # calculate the height, based on the preferred width\n",
    "    hsize = int((float(img.size[1]) * float((basewidth / float(img.size[0])))))\n",
    "    #print(hsize)\n",
    "\n",
    "    # resize the image\n",
    "    img = img.resize((basewidth,hsize), Image.ANTIALIAS)\n",
    "    #print(img.size)\n",
    "    #plt.imshow(img)\n",
    "    \n",
    "    # convert image to grayscale if parameter is True\n",
    "    if set_grayscale:\n",
    "        img = img.convert(\"L\")\n",
    "           \n",
    "    # convert the image to numpy array\n",
    "    img = np.array(img)\n",
    "    #print(type(img))\n",
    "    \n",
    "    # binarize image if parameter is True\n",
    "    if binarize:\n",
    "        thr, img = cv2.threshold(img, binarize_min, binarize_max, cv2.THRESH_BINARY)\n",
    "    \n",
    "    # if image is converted to grayscale, make sure to set the channels shape parameter\n",
    "    if set_grayscale:\n",
    "        img = img.reshape((img.shape[0], img.shape[1], 1))\n",
    "    \n",
    "    return img"
   ]
  },
  {
   "cell_type": "code",
   "execution_count": 25,
   "metadata": {
    "collapsed": true
   },
   "outputs": [],
   "source": [
    "# get the list of all folders in the imgloc directory\n",
    "# each folder in this directory should be a label and be named accordingly\n",
    "dirs = [d for d in os.listdir(imgloc) if os.path.isdir(os.path.join(imgloc, d))]"
   ]
  },
  {
   "cell_type": "code",
   "execution_count": 26,
   "metadata": {},
   "outputs": [
    {
     "name": "stdout",
     "output_type": "stream",
     "text": [
      "start:  Fri May 18 09:10:54 2018 \n",
      "\n",
      "00 Data/pictures/A\n",
      "00 Data/pictures/B\n",
      "00 Data/pictures/C\n",
      "00 Data/pictures/D\n",
      "00 Data/pictures/E\n",
      "00 Data/pictures/F\n",
      "00 Data/pictures/G\n",
      "00 Data/pictures/H\n",
      "00 Data/pictures/I\n",
      "00 Data/pictures/K\n",
      "00 Data/pictures/L\n",
      "00 Data/pictures/M\n",
      "00 Data/pictures/N\n",
      "00 Data/pictures/nothing\n",
      "00 Data/pictures/O\n",
      "00 Data/pictures/P\n",
      "00 Data/pictures/R\n",
      "00 Data/pictures/S\n",
      "00 Data/pictures/space\n",
      "00 Data/pictures/T\n",
      "00 Data/pictures/U\n",
      "00 Data/pictures/V\n",
      "\n",
      " finish:  Fri May 18 09:11:02 2018 \n",
      "\n",
      "this took --- 8.7 seconds ---\n"
     ]
    }
   ],
   "source": [
    "# print the current date and time\n",
    "start = time.time()\n",
    "print('start: ', str(time.ctime()), '\\n')\n",
    "\n",
    "\n",
    "# loop through all folders (labels), import the images, resize them and generate new ones\n",
    "for label in dirs:\n",
    "    print(imgloc + label)\n",
    "    \n",
    "    # read images\n",
    "    train_img, train_label = read_images(imgloc + label + '/')\n",
    "    \n",
    "    # resize the images\n",
    "    basewidth = 200\n",
    "    i = 1\n",
    "    \n",
    "    # loop through all the images in the data and resize them\n",
    "    for img in train_img:\n",
    "        # resize the numpy array images\n",
    "        img = resize_images(img, basewidth, set_img_grayscale, binarize, binarize_min, binarize_max)\n",
    "        # save the image\n",
    "        cv2.imwrite(imgloc + label + '/picture_'+ str(i) + '.jpg', img)\n",
    "        i += 1\n",
    "    \n",
    "\n",
    "\n",
    "# print the current date and time\n",
    "print('\\n', 'finish: ', str(time.ctime()), '\\n')\n",
    "print(\"this took --- %s seconds ---\" % round(time.time() - start, 2))"
   ]
  },
  {
   "cell_type": "code",
   "execution_count": null,
   "metadata": {
    "collapsed": true
   },
   "outputs": [],
   "source": []
  }
 ],
 "metadata": {
  "kernelspec": {
   "display_name": "Python 3",
   "language": "python",
   "name": "python3"
  },
  "language_info": {
   "codemirror_mode": {
    "name": "ipython",
    "version": 3
   },
   "file_extension": ".py",
   "mimetype": "text/x-python",
   "name": "python",
   "nbconvert_exporter": "python",
   "pygments_lexer": "ipython3",
   "version": "3.6.3"
  }
 },
 "nbformat": 4,
 "nbformat_minor": 2
}
